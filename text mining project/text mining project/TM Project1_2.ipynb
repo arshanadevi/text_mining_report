{
 "cells": [
  {
   "cell_type": "code",
   "execution_count": 1,
   "metadata": {},
   "outputs": [],
   "source": [
    "import nltk\n",
    "import pickle\n",
    "import numpy as np\n",
    "import pandas as pd\n",
    "import matplotlib.pyplot as plt\n",
    "from nltk.corpus import stopwords, movie_reviews\n",
    "from nltk.corpus.reader import ConllCorpusReader\n",
    "from nltk.sentiment.vader import SentimentIntensityAnalyzer\n",
    "from nltk.stem import WordNetLemmatizer\n",
    "from sklearn.datasets import load_files\n",
    "from sklearn.feature_extraction import DictVectorizer\n",
    "from sklearn.feature_extraction.text import CountVectorizer, TfidfTransformer\n",
    "from sklearn.svm import LinearSVC\n",
    "from sklearn.naive_bayes import MultinomialNB\n",
    "from sklearn.neighbors import KNeighborsClassifier\n",
    "from sklearn.ensemble import RandomForestClassifier\n",
    "from sklearn.metrics import classification_report, f1_score\n",
    "from gensim.utils import simple_preprocess\n",
    "from gensim.corpora import Dictionary\n",
    "from gensim.parsing.preprocessing import STOPWORDS\n",
    "from vaderSentiment.vaderSentiment import SentimentIntensityAnalyzer\n"
   ]
  },
  {
   "cell_type": "code",
   "execution_count": 2,
   "metadata": {},
   "outputs": [],
   "source": [
    "# loading in the ner from lab 4 and the airline tweets from lab 2\n",
    "# we have 3 tasks, ner (Conll), sentiment analysis (airlinetweets) and topic classification (movie reviews, book reviews, restaurant reviews)\n",
    "\n",
    "ner_train = pd.DataFrame(\n",
    "    ConllCorpusReader('CONLL2003',\n",
    "                      'train.txt', ['words', 'pos', 'ignore', 'chunk']\n",
    "                     ).iob_words(), columns=['token', 'pos', 'label'])\n",
    "ner_val = pd.DataFrame(\n",
    "    ConllCorpusReader('CONLL2003',\n",
    "                      'valid.txt', ['words', 'pos', 'ignore', 'chunk']\n",
    "                     ).iob_words(), columns=['token', 'pos', 'label'])\n",
    "\n",
    "sa_train = load_files('airlinetweets')\n",
    "\n",
    "\n",
    "sports = pd.read_csv('sports_dataset.csv', encoding='utf-8', on_bad_lines='skip').rename(columns={'Headline': 'text'})\n",
    "book = pd.read_csv('Book_reviews.csv', encoding='cp1252').rename(columns={'ReviewContent': 'text'})\n",
    "movie = pd.DataFrame({'text': movie_reviews.sents()}).applymap(' '.join)"
   ]
  },
  {
   "cell_type": "markdown",
   "metadata": {},
   "source": [
    "## NAMED ENTITY RECOGNITION"
   ]
  },
  {
   "cell_type": "code",
   "execution_count": 3,
   "metadata": {},
   "outputs": [],
   "source": [
    "from nltk.corpus.reader import ConllCorpusReader\n",
    "\n",
    "# Define the fields in the dataset\n",
    "fields = ('words', 'pos', 'ignore', 'chunk')\n",
    "\n",
    "# Create the reader for training and validation data\n",
    "train_reader = ConllCorpusReader('CONLL2003', 'train.txt', fields)\n",
    "val_reader = ConllCorpusReader('CONLL2003', 'valid.txt', fields)\n",
    "\n",
    "# Extract sentences\n",
    "train_sents = list(train_reader.iob_sents())\n",
    "val_sents = list(val_reader.iob_sents())\n",
    "\n",
    "# Define a function to extract features for a given sentence\n",
    "def word2features(sent, i):\n",
    "    word = sent[i][0]\n",
    "    postag = sent[i][1]\n",
    "\n",
    "    # Features from the current token\n",
    "    features = {\n",
    "        'word.lower()': word.lower(),\n",
    "        'word[-3:]': word[-3:],\n",
    "        'word[-2:]': word[-2:],\n",
    "        'word.isupper()': word.isupper(),\n",
    "        'word.istitle()': word.istitle(),\n",
    "        'word.isdigit()': word.isdigit(),\n",
    "        'postag': postag,\n",
    "        'postag[:2]': postag[:2],\n",
    "    }\n",
    "    \n",
    "    # Features from the previous token\n",
    "    if i > 0:\n",
    "        word1 = sent[i-1][0]\n",
    "        postag1 = sent[i-1][1]\n",
    "        features.update({\n",
    "            '-1:word.lower()': word1.lower(),\n",
    "            '-1:word.istitle()': word1.istitle(),\n",
    "            '-1:word.isupper()': word1.isupper(),\n",
    "            '-1:postag': postag1,\n",
    "            '-1:postag[:2]': postag1[:2],\n",
    "        })\n",
    "    else:\n",
    "        features['BOS'] = True  # Special \"Beginning of Sentence\" token\n",
    "        \n",
    "    # Features from the next token\n",
    "    if i < len(sent)-1:\n",
    "        word1 = sent[i+1][0]\n",
    "        postag1 = sent[i+1][1]\n",
    "        features.update({\n",
    "            '+1:word.lower()': word1.lower(),\n",
    "            '+1:word.istitle()': word1.istitle(),\n",
    "            '+1:word.isupper()': word1.isupper(),\n",
    "            '+1:postag': postag1,\n",
    "            '+1:postag[:2]': postag1[:2],\n",
    "        })\n",
    "    else:\n",
    "        features['EOS'] = True  # Special \"End of Sentence\" token\n",
    "\n",
    "    return features\n",
    "\n",
    "def prepare_data(sentences):\n",
    "    X = []\n",
    "    y = []\n",
    "    for s in sentences:\n",
    "        X.append([word2features(s, i) for i in range(len(s))])\n",
    "        y.append([label for token, pos, label in s])\n",
    "    return X, y\n",
    "\n",
    "\n",
    "def sentence_features(sent):\n",
    "    return[word2features(sent,i) for i in range(len(sent))]\n",
    "\n",
    "X_train, y_train = prepare_data(train_sents)\n",
    "X_val, y_val = prepare_data(val_sents)\n",
    "\n",
    "\n",
    "# Here you can initialize and train your CRF model using X_train and y_train\n"
   ]
  },
  {
   "cell_type": "code",
   "execution_count": 4,
   "metadata": {},
   "outputs": [],
   "source": [
    "import sklearn_crfsuite\n",
    "\n",
    "crf = sklearn_crfsuite.CRF(\n",
    "    algorithm='lbfgs',\n",
    "    c1=0.1,\n",
    "    c2=0.1,\n",
    "    max_iterations=100,\n",
    "    all_possible_transitions=True\n",
    ")\n",
    "crf.fit(X_train, y_train)\n",
    "\n",
    "# Evaluate the model on the validation set\n",
    "y_pred = crf.predict(X_val)\n"
   ]
  },
  {
   "cell_type": "code",
   "execution_count": 5,
   "metadata": {},
   "outputs": [],
   "source": [
    "test_data = pd.read_csv('NER-test.tsv', delimiter='\\t', header=0, names=['sentence_id', 'token_id', 'token', 'ner_tag'])\n",
    "\n",
    "def format_test_data(test_data):\n",
    "    grouped = test_data.groupby('sentence_id').apply(lambda _df: _df.values.tolist())\n",
    "    # Since we don't have POS tags, we'll only use token and NER tag for each word.\n",
    "    test_sentences = [[(token, label) for _, _, token, label in data] for data in grouped]\n",
    "    return test_sentences\n",
    "\n",
    "test_sentences = format_test_data(test_data)\n",
    "\n",
    "X_test = [sentence_features(s) for s in test_sentences]\n",
    "\n",
    "y_pred_test = crf.predict(X_test)"
   ]
  },
  {
   "cell_type": "code",
   "execution_count": 6,
   "metadata": {},
   "outputs": [],
   "source": [
    "# Assuming `test_data` is your DataFrame as shown above\n",
    "grouped = test_data.groupby('sentence_id')['ner_tag'].apply(list)\n",
    "y_true_test = grouped.tolist()"
   ]
  },
  {
   "cell_type": "code",
   "execution_count": 7,
   "metadata": {},
   "outputs": [
    {
     "name": "stdout",
     "output_type": "stream",
     "text": [
      "               precision    recall  f1-score   support\n",
      "\n",
      "       B-DATE      0.000     0.000     0.000         1\n",
      "        B-ORG      0.750     1.000     0.857         3\n",
      "        B-PER      0.400     0.667     0.500         3\n",
      "     B-PERSON      0.000     0.000     0.000         3\n",
      "B-WORK_OF_ART      0.000     0.000     0.000         4\n",
      "       I-DATE      0.000     0.000     0.000         1\n",
      "        I-ORG      0.273     1.000     0.429         6\n",
      "        I-PER      0.000     0.000     0.000         1\n",
      "     I-PERSON      0.000     0.000     0.000         2\n",
      "I-WORK_OF_ART      0.000     0.000     0.000         9\n",
      "            O      0.955     0.925     0.940       160\n",
      "\n",
      "    micro avg      0.828     0.824     0.826       193\n",
      "    macro avg      0.216     0.327     0.248       193\n",
      " weighted avg      0.818     0.824     0.813       193\n",
      "\n"
     ]
    }
   ],
   "source": [
    "from sklearn_crfsuite.metrics import flat_classification_report\n",
    "\n",
    "labels = sorted(set(label for doc in y_true_test for label in doc))\n",
    "\n",
    "\n",
    "y_true_flat = [label for sublist in y_true_test for label in sublist]\n",
    "y_pred_flat = [label for sublist in y_pred_test for label in sublist]\n",
    "\n",
    "print(classification_report(y_true_flat, y_pred_flat, labels=labels, digits=3, zero_division=0))\n"
   ]
  },
  {
   "cell_type": "code",
   "execution_count": 8,
   "metadata": {},
   "outputs": [
    {
     "data": {
      "image/png": "[encoded data removed]",
      "text/plain": [
       "<Figure size 1000x800 with 1 Axes>"
      ]
     },
     "metadata": {},
     "output_type": "display_data"
    }
   ],
   "source": [
    "import matplotlib.pyplot as plt\n",
    "from sklearn.metrics import classification_report\n",
    "import numpy as np\n",
    "import seaborn as sns\n",
    "\n",
    "# Assuming y_true_flat and y_pred_flat are already defined as in your example\n",
    "labels = sorted(set(y_true_flat))  # Ensure labels are sorted consistently\n",
    "report = classification_report(y_true_flat, y_pred_flat, labels=labels, output_dict=True, digits=3, zero_division=0)\n",
    "\n",
    "# Extracting performance metrics\n",
    "precision = [report[label]['precision'] for label in labels]\n",
    "recall = [report[label]['recall'] for label in labels]\n",
    "f1_score = [report[label]['f1-score'] for label in labels]\n",
    "\n",
    "barWidth = 0.25\n",
    "\n",
    "# Set position of bar on X axis\n",
    "r1 = np.arange(len(precision))\n",
    "r2 = [x + barWidth for x in r1]\n",
    "r3 = [x + barWidth for x in r2]\n",
    "\n",
    "cmap = sns.light_palette(\"#00505E\", n_colors=5, reverse=False)\n",
    "\n",
    "color_precision = cmap[1]  \n",
    "color_recall = cmap[2]    \n",
    "color_f1_score = cmap[3]  \n",
    "plt.figure(figsize=(10,8))\n",
    "plt.bar(r1, precision, color=color_precision, width=barWidth, edgecolor='grey', label='Precision')\n",
    "plt.bar(r2, recall, color=color_recall, width=barWidth, edgecolor='grey', label='Recall')\n",
    "plt.bar(r3, f1_score, color=color_f1_score, width=barWidth, edgecolor='grey', label='F1-Score')\n",
    "\n",
    "# xticks on the middle of the group bars\n",
    "plt.xlabel('Entity Type', fontweight='bold')\n",
    "plt.xticks([r + barWidth for r in range(len(precision))], labels, rotation=90)\n",
    "plt.ylabel('Scores', fontweight='bold')\n",
    "plt.title('NERC Performance by Entity Type')\n",
    "\n",
    "plt.legend()\n",
    "plt.tight_layout()\n",
    "plt.show()\n",
    "\n"
   ]
  },
  {
   "cell_type": "markdown",
   "metadata": {},
   "source": [
    "## SENTIMENT ANALYSIS"
   ]
  },
  {
   "cell_type": "code",
   "execution_count": 9,
   "metadata": {},
   "outputs": [],
   "source": [
    "st_test = pd.read_csv('sentiment-topic-test.tsv', delimiter='\\t').drop(columns=['sentence id'])"
   ]
  },
  {
   "cell_type": "markdown",
   "metadata": {},
   "source": [
    "**VADER**"
   ]
  },
  {
   "cell_type": "code",
   "execution_count": 10,
   "metadata": {},
   "outputs": [
    {
     "name": "stdout",
     "output_type": "stream",
     "text": [
      "              precision    recall  f1-score   support\n",
      "\n",
      "    negative       0.20      0.25      0.22         4\n",
      "     neutral       1.00      0.33      0.50         3\n",
      "    positive       0.25      0.33      0.29         3\n",
      "\n",
      "    accuracy                           0.30        10\n",
      "   macro avg       0.48      0.31      0.34        10\n",
      "weighted avg       0.45      0.30      0.32        10\n",
      "\n"
     ]
    }
   ],
   "source": [
    "def vader_output_to_label(vader_output):\n",
    "    compound = vader_output['compound']\n",
    "    if compound < 0.01:\n",
    "        return 'negative'\n",
    "    elif compound > 0.42:\n",
    "        return 'positive'\n",
    "    return 'neutral'\n",
    "\n",
    "vader_model = SentimentIntensityAnalyzer()\n",
    "\n",
    "vader_pred = [vader_output_to_label(vader_model.polarity_scores(text)) for text in st_test.text.values]\n",
    "print(classification_report(st_test.sentiment.values, vader_pred, target_names=sa_train.target_names))"
   ]
  },
  {
   "cell_type": "markdown",
   "metadata": {},
   "source": [
    "**Multinomial Naive Bayes**"
   ]
  },
  {
   "cell_type": "code",
   "execution_count": 11,
   "metadata": {},
   "outputs": [],
   "source": [
    "# Convert the 'data' and 'target' to a DataFrame for easier manipulation\n",
    "sa_train_df = pd.DataFrame({\n",
    "    'text': [d.decode('utf-8') for d in sa_train['data']], # Decode each item from bytes to string\n",
    "    'sentiment': sa_train['target']\n",
    "})\n"
   ]
  },
  {
   "cell_type": "code",
   "execution_count": 12,
   "metadata": {},
   "outputs": [],
   "source": [
    "# Map numeric targets to their corresponding sentiment labels\n",
    "target_names = sa_train['target_names']\n",
    "sa_train_df['sentiment'] = sa_train_df['sentiment'].apply(lambda x: target_names[x])\n"
   ]
  },
  {
   "cell_type": "code",
   "execution_count": 13,
   "metadata": {},
   "outputs": [],
   "source": [
    "from sklearn.model_selection import train_test_split\n",
    "\n",
    "X = sa_train_df['text']\n",
    "y = sa_train_df['sentiment']\n",
    "\n",
    "X_train, X_test, y_train, y_test = train_test_split(X, y, test_size=0.2, random_state=42)\n",
    "\n",
    "\n",
    "from sklearn.feature_extraction.text import TfidfVectorizer\n",
    "\n",
    "vectorizer = TfidfVectorizer(max_features=1000)\n",
    "X_train_vect = vectorizer.fit_transform(X_train)\n",
    "X_test_vect = vectorizer.transform(X_test)\n",
    "\n",
    "from sklearn.naive_bayes import MultinomialNB\n",
    "\n",
    "model = MultinomialNB()\n",
    "model.fit(X_train_vect, y_train)\n",
    "\n",
    "from sklearn.metrics import classification_report, accuracy_score\n",
    "\n",
    "y_pred = model.predict(X_test_vect)\n",
    "\n",
    "\n"
   ]
  },
  {
   "cell_type": "code",
   "execution_count": 14,
   "metadata": {},
   "outputs": [
    {
     "name": "stdout",
     "output_type": "stream",
     "text": [
      "              precision    recall  f1-score   support\n",
      "\n",
      "    negative       0.50      0.50      0.50         4\n",
      "     neutral       0.67      0.67      0.67         3\n",
      "    positive       0.00      0.00      0.00         3\n",
      "\n",
      "    accuracy                           0.40        10\n",
      "   macro avg       0.39      0.39      0.39        10\n",
      "weighted avg       0.40      0.40      0.40        10\n",
      "\n"
     ]
    }
   ],
   "source": [
    "X_test_vect = vectorizer.transform(st_test.text.values)\n",
    "\n",
    "\n",
    "nb_pred = model.predict(X_test_vect)\n",
    "\n",
    "\n",
    "print(classification_report(st_test.sentiment.values, nb_pred, target_names=sa_train.target_names))\n",
    "\n",
    "\n"
   ]
  },
  {
   "cell_type": "markdown",
   "metadata": {},
   "source": [
    "**Fine-Tuning wit DistilBERT**"
   ]
  },
  {
   "cell_type": "code",
   "execution_count": 15,
   "metadata": {},
   "outputs": [],
   "source": [
    "#Executed on COLAB"
   ]
  },
  {
   "cell_type": "markdown",
   "metadata": {},
   "source": [
    "**Plotting Sentiment Analysis Performance Comparison**"
   ]
  },
  {
   "cell_type": "code",
   "execution_count": 16,
   "metadata": {},
   "outputs": [
    {
     "data": {
      "text/plain": [
       "<function matplotlib.pyplot.tight_layout(*, pad=1.08, h_pad=None, w_pad=None, rect=None)>"
      ]
     },
     "execution_count": 16,
     "metadata": {},
     "output_type": "execute_result"
    },
    {
     "data": {
      "image/png": "[encoded data removed]",
      "text/plain": [
       "<Figure size 1000x600 with 1 Axes>"
      ]
     },
     "metadata": {},
     "output_type": "display_data"
    }
   ],
   "source": [
    "import matplotlib.pyplot as plt\n",
    "import numpy as np\n",
    "import seaborn as sns\n",
    "# Sample F1-scores for each class by each method\n",
    "f1_scores = {\n",
    "    'DistilBERT': {'positive': 0.5, 'neutral': 0.5, 'negative': 0.25},\n",
    "    'VADER': {'positive': 0.22, 'neutral': 0.5, 'negative': 0.29},\n",
    "    'Multinomial Naive Bayes': {'positive': 0.5, 'neutral': 0.67, 'negative': 0.0}\n",
    "}\n",
    "\n",
    "# Class labels\n",
    "classes = list(f1_scores['DistilBERT'].keys())\n",
    "\n",
    "# Positions of the bars on the x-axis\n",
    "ind = np.arange(len(classes))\n",
    "\n",
    "# Width of the bars\n",
    "width = 0.2\n",
    "\n",
    "# Create a continuous light palette\n",
    "palette = sns.light_palette(\"#00505E\", n_colors=len(f1_scores) + 2, reverse=False)\n",
    "bar_colors = palette[1:len(f1_scores) + 1]  # Avoid the darkest color\n",
    "\n",
    "plt.figure(figsize=(10, 6))\n",
    "\n",
    "# Plotting with grey edge color\n",
    "for i, (method, scores) in enumerate(f1_scores.items()):\n",
    "    f1_values = list(scores.values())\n",
    "    plt.bar(ind + i * width, f1_values, width, label=method, color=bar_colors[i], edgecolor='grey')\n",
    "\n",
    "# Adding details\n",
    "plt.xlabel('Sentiment Class', fontsize=12)\n",
    "plt.ylabel('F1 Score', fontsize=12)\n",
    "plt.title('Comparison of Method Performance by F1 Score', fontsize=14)\n",
    "plt.xticks(ind + width, classes)\n",
    "\n",
    "plt.legend(loc='upper right', fontsize=10)\n",
    "plt.tight_layout"
   ]
  },
  {
   "cell_type": "markdown",
   "metadata": {},
   "source": [
    "## TOPIC CLASSIFICATION"
   ]
  },
  {
   "cell_type": "markdown",
   "metadata": {},
   "source": [
    "**Data Preparation**"
   ]
  },
  {
   "cell_type": "code",
   "execution_count": 17,
   "metadata": {},
   "outputs": [],
   "source": [
    "import pandas as pd\n",
    "\n",
    "# Assuming sports, books, and movies are already loaded DataFrames\n",
    "sports['topic'] = 'sports'\n",
    "book['topic'] = 'book'\n",
    "movie['topic'] = 'movie'\n",
    "\n",
    "# Concatenate the DataFrames\n",
    "all_data = pd.concat([sports[['text', 'topic']], book[['text', 'topic']], movie[['text', 'topic']]], ignore_index=True)\n",
    "\n",
    "# Now, you have a single DataFrame with texts and their corresponding topics\n"
   ]
  },
  {
   "cell_type": "code",
   "execution_count": 18,
   "metadata": {},
   "outputs": [],
   "source": [
    "# Assuming sports, books, and movies are your datasets\n",
    "sports_df = sports[['text', 'topic']]\n",
    "books_df = book[['text', 'topic']]\n",
    "movies_df = movie[['text', 'topic']]\n",
    "\n",
    "# Find the minimum size among the three datasets\n",
    "min_size = min(len(sports_df), len(books_df), len(movies_df))\n",
    "\n",
    "# Sample from each dataset to match the minimum size\n",
    "sports_sample = sports_df.sample(n=min_size, random_state=42)\n",
    "books_sample = books_df.sample(n=min_size, random_state=42)\n",
    "movies_sample = movies_df.sample(n=min_size, random_state=42)\n",
    "\n",
    "# Combine the samples into one balanced dataset\n",
    "all_data_balanced = pd.concat([sports_sample, books_sample, movies_sample], ignore_index=True)\n",
    "\n",
    "# Shuffle the dataset to ensure it's mixed well\n",
    "all_data_balanced = all_data_balanced.sample(frac=1, random_state=42).reset_index(drop=True)\n"
   ]
  },
  {
   "cell_type": "markdown",
   "metadata": {},
   "source": [
    "**Sentence Embeddings+SVM**"
   ]
  },
  {
   "cell_type": "code",
   "execution_count": 19,
   "metadata": {},
   "outputs": [],
   "source": [
    "import torch"
   ]
  },
  {
   "cell_type": "code",
   "execution_count": 20,
   "metadata": {},
   "outputs": [
    {
     "name": "stdout",
     "output_type": "stream",
     "text": [
      "Collecting sentence_transformers\n",
      "  Downloading sentence_transformers-2.6.1-py3-none-any.whl.metadata (11 kB)\n",
      "Requirement already satisfied: transformers<5.0.0,>=4.32.0 in c:\\users\\arsha\\anaconda3\\lib\\site-packages (from sentence_transformers) (4.38.2)\n",
      "Requirement already satisfied: tqdm in c:\\users\\arsha\\anaconda3\\lib\\site-packages (from sentence_transformers) (4.64.1)\n",
      "Requirement already satisfied: torch>=1.11.0 in c:\\users\\arsha\\anaconda3\\lib\\site-packages (from sentence_transformers) (2.2.1)\n",
      "Requirement already satisfied: numpy in c:\\users\\arsha\\anaconda3\\lib\\site-packages (from sentence_transformers) (1.23.5)\n",
      "Requirement already satisfied: scikit-learn in c:\\users\\arsha\\anaconda3\\lib\\site-packages (from sentence_transformers) (1.2.1)\n",
      "Requirement already satisfied: scipy in c:\\users\\arsha\\anaconda3\\lib\\site-packages (from sentence_transformers) (1.10.0)\n",
      "Requirement already satisfied: huggingface-hub>=0.15.1 in c:\\users\\arsha\\anaconda3\\lib\\site-packages (from sentence_transformers) (0.21.4)\n",
      "Requirement already satisfied: Pillow in c:\\users\\arsha\\anaconda3\\lib\\site-packages (from sentence_transformers) (9.4.0)\n",
      "Requirement already satisfied: filelock in c:\\users\\arsha\\anaconda3\\lib\\site-packages (from huggingface-hub>=0.15.1->sentence_transformers) (3.9.0)\n",
      "Requirement already satisfied: fsspec>=2023.5.0 in c:\\users\\arsha\\anaconda3\\lib\\site-packages (from huggingface-hub>=0.15.1->sentence_transformers) (2024.2.0)\n",
      "Requirement already satisfied: requests in c:\\users\\arsha\\anaconda3\\lib\\site-packages (from huggingface-hub>=0.15.1->sentence_transformers) (2.28.1)\n",
      "Requirement already satisfied: pyyaml>=5.1 in c:\\users\\arsha\\anaconda3\\lib\\site-packages (from huggingface-hub>=0.15.1->sentence_transformers) (6.0)\n",
      "Requirement already satisfied: typing-extensions>=3.7.4.3 in c:\\users\\arsha\\anaconda3\\lib\\site-packages (from huggingface-hub>=0.15.1->sentence_transformers) (4.9.0)\n",
      "Requirement already satisfied: packaging>=20.9 in c:\\users\\arsha\\anaconda3\\lib\\site-packages (from huggingface-hub>=0.15.1->sentence_transformers) (22.0)\n",
      "Requirement already satisfied: sympy in c:\\users\\arsha\\appdata\\roaming\\python\\python310\\site-packages (from torch>=1.11.0->sentence_transformers) (1.9)\n",
      "Requirement already satisfied: networkx in c:\\users\\arsha\\anaconda3\\lib\\site-packages (from torch>=1.11.0->sentence_transformers) (2.8.4)\n",
      "Requirement already satisfied: jinja2 in c:\\users\\arsha\\anaconda3\\lib\\site-packages (from torch>=1.11.0->sentence_transformers) (3.1.2)\n",
      "Requirement already satisfied: colorama in c:\\users\\arsha\\anaconda3\\lib\\site-packages (from tqdm->sentence_transformers) (0.4.6)\n",
      "Requirement already satisfied: regex!=2019.12.17 in c:\\users\\arsha\\anaconda3\\lib\\site-packages (from transformers<5.0.0,>=4.32.0->sentence_transformers) (2022.7.9)\n",
      "Requirement already satisfied: tokenizers<0.19,>=0.14 in c:\\users\\arsha\\anaconda3\\lib\\site-packages (from transformers<5.0.0,>=4.32.0->sentence_transformers) (0.15.2)\n",
      "Requirement already satisfied: safetensors>=0.4.1 in c:\\users\\arsha\\anaconda3\\lib\\site-packages (from transformers<5.0.0,>=4.32.0->sentence_transformers) (0.4.2)\n",
      "Requirement already satisfied: joblib>=1.1.1 in c:\\users\\arsha\\anaconda3\\lib\\site-packages (from scikit-learn->sentence_transformers) (1.1.1)\n",
      "Requirement already satisfied: threadpoolctl>=2.0.0 in c:\\users\\arsha\\anaconda3\\lib\\site-packages (from scikit-learn->sentence_transformers) (2.2.0)\n",
      "Requirement already satisfied: MarkupSafe>=2.0 in c:\\users\\arsha\\anaconda3\\lib\\site-packages (from jinja2->torch>=1.11.0->sentence_transformers) (2.1.1)\n",
      "Requirement already satisfied: charset-normalizer<3,>=2 in c:\\users\\arsha\\anaconda3\\lib\\site-packages (from requests->huggingface-hub>=0.15.1->sentence_transformers) (2.0.4)\n",
      "Requirement already satisfied: idna<4,>=2.5 in c:\\users\\arsha\\anaconda3\\lib\\site-packages (from requests->huggingface-hub>=0.15.1->sentence_transformers) (3.4)\n",
      "Requirement already satisfied: urllib3<1.27,>=1.21.1 in c:\\users\\arsha\\anaconda3\\lib\\site-packages (from requests->huggingface-hub>=0.15.1->sentence_transformers) (1.26.14)\n",
      "Requirement already satisfied: certifi>=2017.4.17 in c:\\users\\arsha\\anaconda3\\lib\\site-packages (from requests->huggingface-hub>=0.15.1->sentence_transformers) (2024.2.2)\n",
      "Requirement already satisfied: mpmath>=0.19 in c:\\users\\arsha\\appdata\\roaming\\python\\python310\\site-packages (from sympy->torch>=1.11.0->sentence_transformers) (1.2.1)\n",
      "Downloading sentence_transformers-2.6.1-py3-none-any.whl (163 kB)\n",
      "   ---------------------------------------- 0.0/163.3 kB ? eta -:--:--\n",
      "   ------------------------------------- -- 153.6/163.3 kB 4.6 MB/s eta 0:00:01\n",
      "   ---------------------------------------- 163.3/163.3 kB 3.3 MB/s eta 0:00:00\n",
      "Installing collected packages: sentence_transformers\n",
      "Successfully installed sentence_transformers-2.6.1\n"
     ]
    }
   ],
   "source": [
    "!pip install sentence_transformers"
   ]
  },
  {
   "cell_type": "code",
   "execution_count": 21,
   "metadata": {},
   "outputs": [
    {
     "data": {
      "application/vnd.jupyter.widget-view+json": {
       "model_id": "1777b3e078c34294b3b23d94d2cd9479",
       "version_major": 2,
       "version_minor": 0
      },
      "text/plain": [
       "modules.json:   0%|          | 0.00/349 [00:00<?, ?B/s]"
      ]
     },
     "metadata": {},
     "output_type": "display_data"
    },
    {
     "name": "stderr",
     "output_type": "stream",
     "text": [
      "c:\\Users\\arsha\\anaconda3\\lib\\site-packages\\huggingface_hub\\file_download.py:149: UserWarning: `huggingface_hub` cache-system uses symlinks by default to efficiently store duplicated files but your machine does not support them in C:\\Users\\arsha\\.cache\\huggingface\\hub\\models--sentence-transformers--all-MiniLM-L6-v2. Caching files will still work but in a degraded version that might require more space on your disk. This warning can be disabled by setting the `HF_HUB_DISABLE_SYMLINKS_WARNING` environment variable. For more details, see https://huggingface.co/docs/huggingface_hub/how-to-cache#limitations.\n",
      "To support symlinks on Windows, you either need to activate Developer Mode or to run Python as an administrator. In order to see activate developer mode, see this article: https://docs.microsoft.com/en-us/windows/apps/get-started/enable-your-device-for-development\n",
      "  warnings.warn(message)\n"
     ]
    },
    {
     "data": {
      "application/vnd.jupyter.widget-view+json": {
       "model_id": "34be7171816e4b0699ae436aa11c5ab7",
       "version_major": 2,
       "version_minor": 0
      },
      "text/plain": [
       "config_sentence_transformers.json:   0%|          | 0.00/116 [00:00<?, ?B/s]"
      ]
     },
     "metadata": {},
     "output_type": "display_data"
    },
    {
     "data": {
      "application/vnd.jupyter.widget-view+json": {
       "model_id": "dbecff853bf34dac91994f60f72a92a9",
       "version_major": 2,
       "version_minor": 0
      },
      "text/plain": [
       "README.md:   0%|          | 0.00/10.7k [00:00<?, ?B/s]"
      ]
     },
     "metadata": {},
     "output_type": "display_data"
    },
    {
     "data": {
      "application/vnd.jupyter.widget-view+json": {
       "model_id": "eccbf2b6bb1948a48ba46080c48bfc41",
       "version_major": 2,
       "version_minor": 0
      },
      "text/plain": [
       "sentence_bert_config.json:   0%|          | 0.00/53.0 [00:00<?, ?B/s]"
      ]
     },
     "metadata": {},
     "output_type": "display_data"
    },
    {
     "data": {
      "application/vnd.jupyter.widget-view+json": {
       "model_id": "f1a99dba17be438281493c9da2f8e1a5",
       "version_major": 2,
       "version_minor": 0
      },
      "text/plain": [
       "config.json:   0%|          | 0.00/612 [00:00<?, ?B/s]"
      ]
     },
     "metadata": {},
     "output_type": "display_data"
    },
    {
     "data": {
      "application/vnd.jupyter.widget-view+json": {
       "model_id": "8954ac7f6a704f7095a1a851c0fb6983",
       "version_major": 2,
       "version_minor": 0
      },
      "text/plain": [
       "model.safetensors:   0%|          | 0.00/90.9M [00:00<?, ?B/s]"
      ]
     },
     "metadata": {},
     "output_type": "display_data"
    },
    {
     "data": {
      "application/vnd.jupyter.widget-view+json": {
       "model_id": "e2ad99ddc0304d13a5b788ffe1cd2e29",
       "version_major": 2,
       "version_minor": 0
      },
      "text/plain": [
       "tokenizer_config.json:   0%|          | 0.00/350 [00:00<?, ?B/s]"
      ]
     },
     "metadata": {},
     "output_type": "display_data"
    },
    {
     "data": {
      "application/vnd.jupyter.widget-view+json": {
       "model_id": "62806c506bbb49e6bdafd8eaadb00970",
       "version_major": 2,
       "version_minor": 0
      },
      "text/plain": [
       "vocab.txt:   0%|          | 0.00/232k [00:00<?, ?B/s]"
      ]
     },
     "metadata": {},
     "output_type": "display_data"
    },
    {
     "data": {
      "application/vnd.jupyter.widget-view+json": {
       "model_id": "8c81c129e80c4e0388a8621828a43fa5",
       "version_major": 2,
       "version_minor": 0
      },
      "text/plain": [
       "tokenizer.json:   0%|          | 0.00/466k [00:00<?, ?B/s]"
      ]
     },
     "metadata": {},
     "output_type": "display_data"
    },
    {
     "data": {
      "application/vnd.jupyter.widget-view+json": {
       "model_id": "c3563707213d4f5b94068dd5db5b1756",
       "version_major": 2,
       "version_minor": 0
      },
      "text/plain": [
       "special_tokens_map.json:   0%|          | 0.00/112 [00:00<?, ?B/s]"
      ]
     },
     "metadata": {},
     "output_type": "display_data"
    },
    {
     "data": {
      "application/vnd.jupyter.widget-view+json": {
       "model_id": "83d7164c24264ceea0c45e149ddba3b3",
       "version_major": 2,
       "version_minor": 0
      },
      "text/plain": [
       "1_Pooling/config.json:   0%|          | 0.00/190 [00:00<?, ?B/s]"
      ]
     },
     "metadata": {},
     "output_type": "display_data"
    }
   ],
   "source": [
    "from sentence_transformers import SentenceTransformer\n",
    "\n",
    "# Load a pre-trained model\n",
    "model = SentenceTransformer('all-MiniLM-L6-v2')\n",
    "\n",
    "# Your sentences\n",
    "sentences = all_data_balanced['text']\n",
    "\n",
    "labels = all_data_balanced['topic']\n",
    "\n",
    "# Generate embeddings\n",
    "embeddings = model.encode(sentences)\n",
    "\n",
    "# `embeddings` is a list of vectors, one per sentence\n"
   ]
  },
  {
   "cell_type": "code",
   "execution_count": 22,
   "metadata": {},
   "outputs": [],
   "source": [
    "from sklearn.model_selection import train_test_split\n",
    "\n",
    "# Assuming `all_sentences` is a list of your sentences and `all_labels` are their labels\n",
    "X_train, X_test, y_train, y_test = train_test_split(embeddings, labels, test_size=0.2, random_state=42)\n"
   ]
  },
  {
   "cell_type": "code",
   "execution_count": 23,
   "metadata": {},
   "outputs": [
    {
     "name": "stdout",
     "output_type": "stream",
     "text": [
      "              precision    recall  f1-score   support\n",
      "\n",
      "        book       0.99      0.99      0.99      1012\n",
      "       movie       0.97      0.98      0.97       987\n",
      "      sports       0.98      0.98      0.98      1001\n",
      "\n",
      "    accuracy                           0.98      3000\n",
      "   macro avg       0.98      0.98      0.98      3000\n",
      "weighted avg       0.98      0.98      0.98      3000\n",
      "\n"
     ]
    }
   ],
   "source": [
    "from sklearn.svm import SVC\n",
    "from sklearn.metrics import classification_report\n",
    "\n",
    "# Initialize and train the classifier\n",
    "clf = SVC(kernel='linear')  \n",
    "clf.fit(X_train, y_train)\n",
    "\n",
    "# Predict on the test set\n",
    "y_pred = clf.predict(X_test)\n",
    "\n",
    "# Evaluate the model\n",
    "print(classification_report(y_test, y_pred))\n"
   ]
  },
  {
   "cell_type": "code",
   "execution_count": 24,
   "metadata": {},
   "outputs": [
    {
     "name": "stdout",
     "output_type": "stream",
     "text": [
      "              precision    recall  f1-score   support\n",
      "\n",
      "        book       1.00      0.33      0.50         3\n",
      "       movie       0.57      1.00      0.73         4\n",
      "      sports       1.00      0.67      0.80         3\n",
      "\n",
      "    accuracy                           0.70        10\n",
      "   macro avg       0.86      0.67      0.68        10\n",
      "weighted avg       0.83      0.70      0.68        10\n",
      "\n"
     ]
    }
   ],
   "source": [
    "# Generate embeddings for your test data\n",
    "test_embeddings = model.encode(st_test.text.values)\n",
    "\n",
    "clf_pred = clf.predict(test_embeddings)\n",
    "\n",
    "\n",
    "# print the classification report for topic classification\n",
    "print(classification_report(st_test.topic.values, clf_pred, zero_division=0))\n"
   ]
  },
  {
   "cell_type": "code",
   "execution_count": 25,
   "metadata": {},
   "outputs": [
    {
     "data": {
      "image/png": "[encoded data removed]",
      "text/plain": [
       "<Figure size 640x480 with 2 Axes>"
      ]
     },
     "metadata": {},
     "output_type": "display_data"
    }
   ],
   "source": [
    "from sklearn.metrics import confusion_matrix\n",
    "import seaborn as sns\n",
    "import matplotlib.pyplot as plt\n",
    "\n",
    "# Assuming clf_pred are your predictions and st_test.topic.values are true labels\n",
    "cm = confusion_matrix(st_test.topic.values, clf_pred)\n",
    "\n",
    "# Create a custom color palette\n",
    "cmap = sns.light_palette(\"#00505E\", as_cmap=True)\n",
    "\n",
    "sns.heatmap(cm, annot=True, fmt=\"d\", cmap=cmap, xticklabels=[\"Book\", \"Movie\", \"Sports\"], yticklabels=[\"Book\", \"Movie\", \"Sports\"])\n",
    "plt.ylabel('Actual')\n",
    "plt.xlabel('Predicted')\n",
    "plt.title('Confusion Matrix')\n",
    "plt.show()\n"
   ]
  }
 ],
 "metadata": {
  "interpreter": {
   "hash": "aee8b7b246df8f9039afb4144a1f6fd8d2ca17a180786b69acc140d282b71a49"
  },
  "kernelspec": {
   "display_name": "Python 3.11.4 64-bit",
   "name": "python3"
  },
  "language_info": {
   "codemirror_mode": {
    "name": "ipython",
    "version": 3
   },
   "file_extension": ".py",
   "mimetype": "text/x-python",
   "name": "python",
   "nbconvert_exporter": "python",
   "pygments_lexer": "ipython3",
   "version": "3.10.9"
  }
 },
 "nbformat": 4,
 "nbformat_minor": 2
}
